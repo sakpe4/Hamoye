{
  "nbformat": 4,
  "nbformat_minor": 0,
  "metadata": {
    "colab": {
      "name": "StageOne.ipynb",
      "provenance": [],
      "authorship_tag": "ABX9TyOSC9SwliAUPfGybKTmJkD5",
      "include_colab_link": true
    },
    "kernelspec": {
      "name": "python3",
      "display_name": "Python 3"
    },
    "language_info": {
      "name": "python"
    }
  },
  "cells": [
    {
      "cell_type": "markdown",
      "metadata": {
        "id": "view-in-github",
        "colab_type": "text"
      },
      "source": [
        "<a href=\"https://colab.research.google.com/github/sakpe4/Hamoye/blob/main/StageOne.ipynb\" target=\"_parent\"><img src=\"https://colab.research.google.com/assets/colab-badge.svg\" alt=\"Open In Colab\"/></a>"
      ]
    },
    {
      "cell_type": "code",
      "metadata": {
        "id": "AgQu5HyF3G0W",
        "colab": {
          "base_uri": "https://localhost:8080/"
        },
        "outputId": "82a0ea81-3b01-4abb-b057-5630cbe9caef"
      },
      "source": [
        "import pandas as pd\n",
        "import numpy as np\n",
        "import seaborn as sns\n",
        "import matplotlib.pyplot as plt\n",
        " \n",
        "url = 'https://raw.githubusercontent.com/WalePhenomenon/climate_change/master/fuel_ferc1.csv'\n",
        "df = pd.read_csv(url)\n",
        "df.head()\n",
        "# for the tail\n",
        "df.tail()\n",
        "# for the shape(29523,11)\n",
        "df.shape\n",
        "#infor regarding the Dataframe\n",
        "#df.info()\n",
        " \n",
        "#Question 1\n",
        "A = [1,2,3,4,5,6]\n",
        "B = [13,21,34]\n",
        "A.extend(B)\n",
        "#Answer [1,2,3,4,5,6,13,21,34]\n",
        "#question 2\n",
        "np.identity(3)\n",
        "#Question 3\n",
        "df.head()\n",
        "df.groupby('fuel_type_code_pudl')['fuel_cost_per_unit_burned'].mean()\n",
        "#Gas is the loswest Average\n",
        "#Question 4\n",
        "round(df.describe(),2)\n",
        "#fuel_mmbtu_per_unit std is 10.60 while 75% percentile is 17.01\n",
        "#Question 5\n",
        "round(df.skew(),2)\n",
        "round(df.kurtosis(),2)\n",
        "#fuel_qty_burned is 15.85 and Kurtosis is 651.37\n",
        "#Question 6\n",
        "feature = [col for col in df.columns \n",
        "           if df[col].isnull().any()]\n",
        "total = df['fuel_unit'].isnull().sum()\n",
        "percent_missing = round(df['fuel_unit'].isnull().sum()*100/len(df),4)\n",
        "print('feature:',feature,',''Total',total,',''percent',percent_missing)#feature: ['fuel_unit'] ,Total 180 ,percent 0.6097\n",
        "#Question 7\n",
        "#The feature missing value is Categorical category\n",
        "# Missing value imputation technique is Mode\n",
        " \n",
        "#Question 8\n",
        "df.corr()['fuel_cost_per_unit_burned'].sort_values(ascending=True)\n",
        "#fuel_mmbtu_per_unit and fuel_qty_burned have the lowest correlation with the fuel_cost_per_unit_burned\n",
        " \n",
        "#Question 9\n",
        "df.head()\n",
        "a = df.loc[(df['report_year']==1998)&(df['fuel_type_code_pudl']=='coal')]['fuel_cost_per_unit_burned'].sum()\n",
        "#call a to get sum\n",
        "a\n",
        "# a = 11902.597\n",
        "b= df.loc[(df['report_year']==1994)&(df['fuel_type_code_pudl']=='coal')]['fuel_cost_per_unit_burned'].sum()\n",
        "b\n",
        "#sum of b = 14984.572000000002\n",
        "print('The percentage change is: ', round(a-b)*100/a)\n",
        "#The percentage change is:  -25.893508786359817 aprx to -26.0\n",
        "#Question 10\n",
        "df.groupby('report_year')['fuel_cost_per_unit_delivered'].mean().sort_values(ascending=False)\n",
        "#The 1997 has the highest average fuel cost per unit delivered which is 11140.197239"
      ],
      "execution_count": null,
      "outputs": [
        {
          "output_type": "stream",
          "text": [
            "feature: ['fuel_unit'] ,Total 180 ,percent 0.6097\n",
            "The percentage change is:  -25.893508786359817\n"
          ],
          "name": "stdout"
        },
        {
          "output_type": "execute_result",
          "data": {
            "text/plain": [
              "report_year\n",
              "1997    11140.197239\n",
              "1996     9196.705948\n",
              "2000      985.362877\n",
              "2009      652.694163\n",
              "2018      499.269966\n",
              "2015      326.535511\n",
              "1998      287.154420\n",
              "2014      192.737183\n",
              "2013      172.307591\n",
              "2004      139.524275\n",
              "2016      103.901761\n",
              "2010       91.862105\n",
              "1994       63.636060\n",
              "2012       60.994502\n",
              "2001       60.050396\n",
              "2011       59.774667\n",
              "2008       58.588197\n",
              "2003       55.663493\n",
              "2002       47.594361\n",
              "2017       46.196861\n",
              "2007       43.325023\n",
              "2005       41.438184\n",
              "2006       38.657484\n",
              "1995       32.735269\n",
              "1999       25.551627\n",
              "Name: fuel_cost_per_unit_delivered, dtype: float64"
            ]
          },
          "metadata": {
            "tags": []
          },
          "execution_count": 19
        }
      ]
    },
    {
      "cell_type": "code",
      "metadata": {
        "id": "CaOeTdeAXYVB"
      },
      "source": [
        ""
      ],
      "execution_count": null,
      "outputs": []
    },
    {
      "cell_type": "markdown",
      "metadata": {
        "id": "z9Px8i81D0R3"
      },
      "source": [
        "Answer to question 3\n",
        "array([[1., 0., 0.],\n",
        "       [0., 1., 0.],\n",
        "       [0., 0., 1.]])"
      ]
    }
  ]
}