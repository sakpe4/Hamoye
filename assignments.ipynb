import pandas as pd
import numpy as np
import seaborn as sns
import matplotlib.pyplot as plt

url = 'https://raw.githubusercontent.com/WalePhenomenon/climate_change/master/fuel_ferc1.csv'
df = pd.read_csv(url)
df.head()
# for the tail
df.tail()
# for the shape(29523,11)
df.shape
#infor regarding the Dataframe
#df.info()

#Question 1
A = [1,2,3,4,5,6]
B = [13,21,34]
A.extend(B)
#Answer [1,2,3,4,5,6,13,21,34]
#question 2
np.identity(3)
#Question 3
df.head()
df.groupby('fuel_type_code_pudl')['fuel_cost_per_unit_burned'].mean()
#Gas is the loswest Average
#Question 4
round(df.describe(),2)
#fuel_mmbtu_per_unit std is 10.60 while 75% percentile is 17.01
#Question 5
round(df.skew(),2)
round(df.kurtosis(),2)
#fuel_qty_burned is 15.85 and Kurtosis is 651.37
#Question 6
feature = [col for col in df.columns 
           if df[col].isnull().any()]
total = df['fuel_unit'].isnull().sum()
percent_missing = round(df['fuel_unit'].isnull().sum()*100/len(df),4)
print('feature:',feature,',''Total',total,',''percent',percent_missing)#feature: ['fuel_unit'] ,Total 180 ,percent 0.6097
#Question 7
#The feature missing value is Categorical category
# Missing value imputation technique is Mode

#Question 8
df.corr()['fuel_cost_per_unit_burned'].sort_values(ascending=True)
#fuel_mmbtu_per_unit and fuel_qty_burned have the lowest correlation with the fuel_cost_per_unit_burned

#Question 9
df.head()
a = df.loc[(df['report_year']==1998)&(df['fuel_type_code_pudl']=='coal')]['fuel_cost_per_unit_burned'].sum()
#call a to get sum
a
# a = 11902.597
b= df.loc[(df['report_year']==1994)&(df['fuel_type_code_pudl']=='coal')]['fuel_cost_per_unit_burned'].sum()
b
#sum of b = 14984.572000000002
print('The percentage change is: ', round(a-b)*100/a)
#The percentage change is:  -25.893508786359817 aprx to -26.0
#Question 10
df.groupby('report_year')['fuel_cost_per_unit_delivered'].mean().sort_values(ascending=False)
#The 1997 has the highest average fuel cost per unit delivered which is 11140.197239
